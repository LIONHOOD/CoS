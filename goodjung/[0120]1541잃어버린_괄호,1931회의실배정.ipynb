{
  "nbformat": 4,
  "nbformat_minor": 0,
  "metadata": {
    "colab": {
      "provenance": []
    },
    "kernelspec": {
      "name": "python3",
      "display_name": "Python 3"
    },
    "language_info": {
      "name": "python"
    }
  },
  "cells": [
    {
      "cell_type": "markdown",
      "source": [
        "## [1541번] 잃어버린 괄호\n",
        "#### **문제**\n",
        "세준이는 양수와 +, -, 그리고 괄호를 가지고 식을 만들었다. 그리고 나서 세준이는 괄호를 모두 지웠다.\n",
        "\n",
        "그리고 나서 세준이는 괄호를 적절히 쳐서 이 식의 값을 최소로 만들려고 한다.\n",
        "\n",
        "괄호를 적절히 쳐서 이 식의 값을 최소로 만드는 프로그램을 작성하시오.\n",
        "\n",
        "#### **입력**\n",
        "첫째 줄에 식이 주어진다. 식은 ‘0’~‘9’, ‘+’, 그리고 ‘-’만으로 이루어져 있고, 가장 처음과 마지막 문자는 숫자이다. 그리고 연속해서 두 개 이상의 연산자가 나타나지 않고, 5자리보다 많이 연속되는 숫자는 없다. 수는 0으로 시작할 수 있다. 입력으로 주어지는 식의 길이는 50보다 작거나 같다.\n",
        "\n",
        "#### **출력**\n",
        "첫째 줄에 정답을 출력한다.\n",
        "\n"
      ],
      "metadata": {
        "id": "5Ayuh9CfbOsr"
      }
    },
    {
      "cell_type": "code",
      "execution_count": null,
      "metadata": {
        "id": "D2TtuW-bbEPP"
      },
      "outputs": [],
      "source": [
        "a = input().split('-')\n",
        "lst = []\n",
        "for i in a:\n",
        "    cnt = 0\n",
        "    s = i.split('+')\n",
        "    for j in s: cnt += int(j)\n",
        "    lst.append(cnt)\n",
        "n = lst[0]\n",
        "for i in range(1, len(lst)): n -= lst[i]\n",
        "print(n)"
      ]
    },
    {
      "cell_type": "markdown",
      "source": [
        "## [1931번] 회의실 배정\n",
        "#### **문제**\n",
        "한 개의 회의실이 있는데 이를 사용하고자 하는 N개의 회의에 대하여 회의실 사용표를 만들려고 한다. 각 회의 I에 대해 시작시간과 끝나는 시간이 주어져 있고, 각 회의가 겹치지 않게 하면서 회의실을 사용할 수 있는 회의의 최대 개수를 찾아보자. 단, 회의는 한번 시작하면 중간에 중단될 수 없으며 한 회의가 끝나는 것과 동시에 다음 회의가 시작될 수 있다. 회의의 시작시간과 끝나는 시간이 같을 수도 있다. 이 경우에는 시작하자마자 끝나는 것으로 생각하면 된다.\n",
        "\n",
        "#### **입력**\n",
        "첫째 줄에 회의의 수 N(1 ≤ N ≤ 100,000)이 주어진다. 둘째 줄부터 N+1 줄까지 각 회의의 정보가 주어지는데 이것은 공백을 사이에 두고 회의의 시작시간과 끝나는 시간이 주어진다. 시작 시간과 끝나는 시간은 231-1보다 작거나 같은 자연수 또는 0이다.\n",
        "\n",
        "####**출력**\n",
        "첫째 줄에 최대 사용할 수 있는 회의의 최대 개수를 출력한다."
      ],
      "metadata": {
        "id": "UAdIGRYYdeiO"
      }
    },
    {
      "cell_type": "code",
      "source": [
        "N = int(input())\n",
        "lst = []\n",
        "for i in range(N):\n",
        "    a, b = map(int, input().split())\n",
        "    lst.append([a,b]) # [[1,4],[3,5],...]\n",
        "\n",
        "lst = sorted(lst, key=lambda x: x[0])\n",
        "lst = sorted(lst, key=lambda x: x[1])\n",
        "\n",
        "end = 0\n",
        "cnt = 0\n",
        "for i, j in lst:\n",
        "    if i >= end:\n",
        "        cnt += 1\n",
        "        end = j\n",
        "print(cnt)\n",
        "\n",
        "# sorting을 시작시간과 끝시간 모두 적용해야 하는 이유:\n",
        "# [[3,5],[5,5]]는 답이 2지만 [[5,5],[3,5]]는 답이 1이라서 틀림"
      ],
      "metadata": {
        "id": "Bg0rethPdd9x",
        "colab": {
          "base_uri": "https://localhost:8080/"
        },
        "outputId": "6b5f7411-7708-46cd-acf3-f438f0e5285e"
      },
      "execution_count": 4,
      "outputs": [
        {
          "output_type": "stream",
          "name": "stdout",
          "text": [
            "3\n",
            "5 5\n",
            "5 5\n",
            "5 5\n",
            "3\n"
          ]
        }
      ]
    }
  ]
}