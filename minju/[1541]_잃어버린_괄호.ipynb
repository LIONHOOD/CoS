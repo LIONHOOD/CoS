{
  "nbformat": 4,
  "nbformat_minor": 0,
  "metadata": {
    "colab": {
      "provenance": [],
      "authorship_tag": "ABX9TyPoT6rDYAqwt7W26HK+TWJH",
      "include_colab_link": true
    },
    "kernelspec": {
      "name": "python3",
      "display_name": "Python 3"
    },
    "language_info": {
      "name": "python"
    }
  },
  "cells": [
    {
      "cell_type": "markdown",
      "metadata": {
        "id": "view-in-github",
        "colab_type": "text"
      },
      "source": [
        "<a href=\"https://colab.research.google.com/github/forminju/CoS/blob/main/minju/%5B1541%5D_%EC%9E%83%EC%96%B4%EB%B2%84%EB%A6%B0_%EA%B4%84%ED%98%B8.ipynb\" target=\"_parent\"><img src=\"https://colab.research.google.com/assets/colab-badge.svg\" alt=\"Open In Colab\"/></a>"
      ]
    },
    {
      "cell_type": "markdown",
      "source": [
        "## 문제\n",
        "- 세준이는 양수와 +, -, 그리고 괄호를 가지고 식을 만들었다. 그리고 나서 세준이는 괄호를 모두 지웠다.\n",
        "\n",
        "- 그리고 나서 세준이는 괄호를 적절히 쳐서 이 식의 값을 최소로 만들려고 한다.\n",
        "\n",
        "- 괄호를 적절히 쳐서 이 식의 값을 최소로 만드는 프로그램을 작성하시오.\n",
        "\n",
        "## 입력\n",
        "- 첫째 줄에 식이 주어진다. 식은 ‘0’~‘9’, ‘+’, 그리고 ‘-’만으로 이루어져 있고, 가장 처음과 마지막 문자는 숫자이다. 그리고 연속해서 두 개 이상의 연산자가 나타나지 않고, 5자리보다 많이 연속되는 숫자는 없다. 수는 0으로 시작할 수 있다. 입력으로 주어지는 식의 길이는 50보다 작거나 같다."
      ],
      "metadata": {
        "id": "MEGoAAHOIlRI"
      }
    },
    {
      "cell_type": "markdown",
      "source": [
        "---"
      ],
      "metadata": {
        "id": "LEb5ZXc_J6pK"
      }
    },
    {
      "cell_type": "markdown",
      "source": [
        "## 문제 분석\n",
        "\n",
        "- 부호 : <+>, <-> 와 숨겨진 괄호\n",
        "\n",
        "- 50-55+45 라고 했을때\n",
        "- (50-55)+45 = -5+45 = 40\n",
        "- 50-(55+45) = 50-100 = -50\n",
        "\n",
        "- <-> 부호가 나오면 다음 <-> 까지 모두 괄호를 쳐서 합한 값을 빼주어야 한다"
      ],
      "metadata": {
        "id": "QyUwhzG5J9K1"
      }
    },
    {
      "cell_type": "code",
      "execution_count": 2,
      "metadata": {
        "id": "AqvUtjsQIhl-"
      },
      "outputs": [],
      "source": [
        "# 55-(50+40)-(10+20+30)-15\n",
        "# 마이너스를 기준으로 split 해주고 \n",
        "# 내부 숫자들은 더해줘서 마이너스 해주기"
      ]
    },
    {
      "cell_type": "code",
      "source": [
        "arr = input().split('-') # 50-45+30\n",
        "#print(arr) # arr[0] = 50, arr[1]=45+30\n",
        "# 50 / 45+30\n",
        "# 45+30 에서 <+> 부터 계산!\n",
        "pn = []\n",
        "for i in arr:\n",
        "  plus = 0\n",
        "  for j in i.split('+'):\n",
        "    plus+=int(j)\n",
        "  pn.append(plus)\n",
        "#print(pn) # 75  음...뭔가 잘못 됐다\n",
        "\n",
        "n = pn[0] # 첫 번째 수 고정\n",
        "\n",
        "#print(pn)\n",
        "k = sum(pn[1:])\n",
        "\n",
        "ans = n-k\n",
        "\n",
        "print(ans)\n",
        "  \n",
        " \n",
        "\n"
      ],
      "metadata": {
        "colab": {
          "base_uri": "https://localhost:8080/"
        },
        "id": "fk_QcAD5O7nW",
        "outputId": "16668e6b-7fe2-43c9-d453-1da119c21712"
      },
      "execution_count": 1,
      "outputs": [
        {
          "output_type": "stream",
          "name": "stdout",
          "text": [
            "50-35+45\n",
            "-30\n"
          ]
        }
      ]
    }
  ]
}