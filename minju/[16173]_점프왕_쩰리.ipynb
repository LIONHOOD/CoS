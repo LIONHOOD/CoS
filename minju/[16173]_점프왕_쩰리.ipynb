{
  "nbformat": 4,
  "nbformat_minor": 0,
  "metadata": {
    "colab": {
      "provenance": [],
      "authorship_tag": "ABX9TyNnNJg4TPwDjbd+Svm31am+",
      "include_colab_link": true
    },
    "kernelspec": {
      "name": "python3",
      "display_name": "Python 3"
    },
    "language_info": {
      "name": "python"
    }
  },
  "cells": [
    {
      "cell_type": "markdown",
      "metadata": {
        "id": "view-in-github",
        "colab_type": "text"
      },
      "source": [
        "<a href=\"https://colab.research.google.com/github/forminju/CoS/blob/main/minju/%5B16173%5D_%EC%A0%90%ED%94%84%EC%99%95_%EC%A9%B0%EB%A6%AC.ipynb\" target=\"_parent\"><img src=\"https://colab.research.google.com/assets/colab-badge.svg\" alt=\"Open In Colab\"/></a>"
      ]
    },
    {
      "cell_type": "markdown",
      "source": [
        "## 16173. 점프왕 쩰리\n",
        "\n",
        "- 정사각형 구역 외부로 나갈 수 X\n",
        "- 출발점은 정사각형 가장 왼쪽, 가장 위의 칸\n",
        "- 이동 가능 방향 : 오른쪽과 아래\n",
        "- 쩰리가 가장 오른쪽, 가장 아래 칸에 도달 시 쩰리 승리\n",
        "- 한 번에 이동 가능한 칸의 수 : 칸에 쓰여 있는 수, 초과/미만 불가능\n",
        "\n",
        "### 입력\n",
        "- 오른쪽 맨 아래칸 : -1\n",
        "- 나머지 칸 : 0~100\n",
        "\n",
        "### 출력\n",
        "- 도달 가능하면 : \"HaruHaru\"\n",
        "- 도달 불가능하면 \"Hing\""
      ],
      "metadata": {
        "id": "hdRHZQL0pGcz"
      }
    },
    {
      "cell_type": "code",
      "execution_count": 9,
      "metadata": {
        "colab": {
          "base_uri": "https://localhost:8080/"
        },
        "id": "5_E6KHNGo5Wv",
        "outputId": "579f8d54-19c6-4130-bdeb-2b1337b97a05"
      },
      "outputs": [
        {
          "output_type": "stream",
          "name": "stdout",
          "text": [
            "3\n",
            "1 1 10\n",
            "1 5 1\n",
            "2 2 -1\n",
            "HaruHaru\n"
          ]
        }
      ],
      "source": [
        "n = int(input()) # 3 -> 3x3 그래프 생성\n",
        "graph = [list(map(int, input().split())) for _ in range(n)]\n",
        "#print(graph)\n",
        "# 쩰리는 오른쪽, 아래로만 이동 가능\n",
        "visited = [[0]*n for _ in range(n)]\n",
        "\n",
        "def dfs(x,y):\n",
        "  if x<=-1 or x>=n or y<=-1 or y>=n or visited[x][y]==1:\n",
        "    return \n",
        "\n",
        "  if graph[x][y] ==-1: # -1 나오면 빠져나오기기\n",
        "    visited[x][y]=1\n",
        "    return\n",
        "\n",
        "  visited[x][y]=1 \n",
        "\n",
        "\n",
        "  dfs(x+graph[x][y], y)\n",
        "  dfs(x-graph[x][y], y)\n",
        "  dfs(x, y+graph[x][y])\n",
        "  dfs(x, y-graph[x][y])\n",
        "\n",
        "# 쩰리 : (0x0) -> (nxn) 칸에 도달해야 승리\n",
        "\n",
        "dfs(0,0)\n",
        "\n",
        "if visited[-1][-1] ==1 :\n",
        "  print(\"HaruHaru\")\n",
        "else :\n",
        "  print(\"Hing\")  \n",
        "\n"
      ]
    },
    {
      "cell_type": "code",
      "source": [
        "3 "
      ],
      "metadata": {
        "colab": {
          "base_uri": "https://localhost:8080/"
        },
        "id": "HNwg9Na3qOP-",
        "outputId": "87ea70e2-9938-4e46-cef3-9cd2dbc06859"
      },
      "execution_count": 8,
      "outputs": [
        {
          "output_type": "execute_result",
          "data": {
            "text/plain": [
              "3"
            ]
          },
          "metadata": {},
          "execution_count": 8
        }
      ]
    },
    {
      "cell_type": "code",
      "source": [],
      "metadata": {
        "id": "kbiAkuoNuCXZ"
      },
      "execution_count": null,
      "outputs": []
    }
  ]
}