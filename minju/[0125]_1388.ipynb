{
  "nbformat": 4,
  "nbformat_minor": 0,
  "metadata": {
    "colab": {
      "provenance": [],
      "authorship_tag": "ABX9TyP9pAMtR7/uCB+52rJtrVHE",
      "include_colab_link": true
    },
    "kernelspec": {
      "name": "python3",
      "display_name": "Python 3"
    },
    "language_info": {
      "name": "python"
    }
  },
  "cells": [
    {
      "cell_type": "markdown",
      "metadata": {
        "id": "view-in-github",
        "colab_type": "text"
      },
      "source": [
        "<a href=\"https://colab.research.google.com/github/forminju/CoS/blob/main/minju/%5B0125%5D_1388.ipynb\" target=\"_parent\"><img src=\"https://colab.research.google.com/assets/colab-badge.svg\" alt=\"Open In Colab\"/></a>"
      ]
    },
    {
      "cell_type": "markdown",
      "source": [
        "# 1388. \n",
        "- 형택이는 건축가이다. 지금 막 형택이는 형택이의 남자 친구 기훈이의 집을 막 완성시켰다. 형택이는 기훈이 방의 바닥 장식을 디자인했고, 이제 몇 개의 나무 판자가 필요한지 궁금해졌다. 나무 판자는 크기 1의 너비를 가졌고, `양수의 길이`를 가지고 있다. 기훈이 방은 직사각형 모양이고, 방 안에는 벽과 평행한 모양의 정사각형으로 나누어져 있다.\n",
        "\n",
        "- 이제 ‘-’와 ‘|’로 이루어진 바닥 장식 모양이 주어진다.\n",
        "- ` 만약 두 개의 ‘-’가 인접해 있고, 같은 행에 있다면, 두 개는 같은 나무 판자이고, 두 개의 ‘|’가 인접해 있고, 같은 열에 있다면, 두 개는 같은 나무 판자이다.`\n",
        "\n",
        "- 기훈이의 방 바닥을 장식하는데 필요한 나무 판자의 개수를 출력하는 프로그램을 작성하시오."
      ],
      "metadata": {
        "id": "g7npxnMwHs0A"
      }
    },
    {
      "cell_type": "code",
      "source": [
        "import sys\n",
        "sys.setrecursionlimit(10 ** 6) \n",
        "\n",
        "# 모든 노드 탐색 -> dfs 활용\n",
        "def dfs_hor(x,y):\n",
        "  if x<=-1 or x>=n or y<=-1 or y>=m:\n",
        "    return False # 경로 이탈 예외처리\n",
        "\n",
        "  if graph[x][y] =='-':\n",
        "    graph[x][y]=='x' # 그래프 방문처리 #1\n",
        "\n",
        "    dfs_hor(x,y-1)\n",
        "    dfs_hor(x,y+1)  #탐색 가능한 경우의 수 재귀함수 호출 후 return True\n",
        "    return True\n",
        "  return False \n",
        "\n",
        "def dfs_ver(x,y):\n",
        "  if x<=-1 or x>=n or y<=-1 or y>=m:\n",
        "    return False # 경로 이탈 예외처리\n",
        "  if graph[x][y] =='|':\n",
        "    graph[x][y]=='y' # 그래프 방문처리 #1\n",
        "\n",
        "    dfs_hor(x-1,y)\n",
        "    dfs_hor(x+1,y)  #탐색 가능한 경우의 수 재귀함수 호출 후 return True\n",
        "    return True\n",
        "  return False   \n",
        "\n",
        "n, m = map(int, sys.stdin.readline().split())\n",
        "\n",
        "graph=[]\n",
        "for _ in range(n):\n",
        "  graph.append(list(sys.stdin.readline()))\n",
        "\n",
        "cnt = 0\n",
        "\n",
        "for i in range(n):\n",
        "  for j in range(m):\n",
        "    if graph[i][j] =='-':\n",
        "      dfs_hor(i,j)\n",
        "      cnt+=1\n",
        "    elif graph[i][j]=='|':\n",
        "      dfs_ver(i,j)\n",
        "      cnt+=1\n",
        "\n",
        "print(cnt)       "
      ],
      "metadata": {
        "colab": {
          "base_uri": "https://localhost:8080/",
          "height": 246
        },
        "id": "M9ufpmJdH1Cr",
        "outputId": "7cf3b724-093f-402b-a320-4360df421be2"
      },
      "execution_count": 1,
      "outputs": [
        {
          "output_type": "error",
          "ename": "ValueError",
          "evalue": "ignored",
          "traceback": [
            "\u001b[0;31m---------------------------------------------------------------------------\u001b[0m",
            "\u001b[0;31mValueError\u001b[0m                                Traceback (most recent call last)",
            "\u001b[0;32m<ipython-input-1-729f98ffb0fe>\u001b[0m in \u001b[0;36m<module>\u001b[0;34m\u001b[0m\n\u001b[1;32m     26\u001b[0m   \u001b[0;32mreturn\u001b[0m \u001b[0;32mFalse\u001b[0m\u001b[0;34m\u001b[0m\u001b[0;34m\u001b[0m\u001b[0m\n\u001b[1;32m     27\u001b[0m \u001b[0;34m\u001b[0m\u001b[0m\n\u001b[0;32m---> 28\u001b[0;31m \u001b[0mn\u001b[0m\u001b[0;34m,\u001b[0m \u001b[0mm\u001b[0m \u001b[0;34m=\u001b[0m \u001b[0mmap\u001b[0m\u001b[0;34m(\u001b[0m\u001b[0mint\u001b[0m\u001b[0;34m,\u001b[0m \u001b[0msys\u001b[0m\u001b[0;34m.\u001b[0m\u001b[0mstdin\u001b[0m\u001b[0;34m.\u001b[0m\u001b[0mreadline\u001b[0m\u001b[0;34m(\u001b[0m\u001b[0;34m)\u001b[0m\u001b[0;34m.\u001b[0m\u001b[0msplit\u001b[0m\u001b[0;34m(\u001b[0m\u001b[0;34m)\u001b[0m\u001b[0;34m)\u001b[0m\u001b[0;34m\u001b[0m\u001b[0;34m\u001b[0m\u001b[0m\n\u001b[0m\u001b[1;32m     29\u001b[0m \u001b[0;34m\u001b[0m\u001b[0m\n\u001b[1;32m     30\u001b[0m \u001b[0mgraph\u001b[0m\u001b[0;34m=\u001b[0m\u001b[0;34m[\u001b[0m\u001b[0;34m]\u001b[0m\u001b[0;34m\u001b[0m\u001b[0;34m\u001b[0m\u001b[0m\n",
            "\u001b[0;31mValueError\u001b[0m: not enough values to unpack (expected 2, got 0)"
          ]
        }
      ]
    },
    {
      "cell_type": "code",
      "source": [],
      "metadata": {
        "id": "tsdfr25UKPLN"
      },
      "execution_count": null,
      "outputs": []
    }
  ]
}