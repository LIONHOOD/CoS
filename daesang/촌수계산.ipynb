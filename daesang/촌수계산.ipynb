{
  "nbformat": 4,
  "nbformat_minor": 0,
  "metadata": {
    "colab": {
      "provenance": [],
      "authorship_tag": "ABX9TyPX4LjryKv/bznXczEyvzt+"
    },
    "kernelspec": {
      "name": "python3",
      "display_name": "Python 3"
    },
    "language_info": {
      "name": "python"
    }
  },
  "cells": [
    {
      "cell_type": "code",
      "source": [
        "n = int(input())\n",
        "l,r = map(int,input().split())\n",
        "D = {l:[l],r:[r]}\n",
        "R = [*range(0,n+1)]\n",
        "for _ in range(int(input())):\n",
        "  p,c = map(int,input().split())\n",
        "  R[c] = p\n",
        "def A(k):\n",
        "  t = k\n",
        "  while R[t]!=t:\n",
        "    t = R[t]\n",
        "    D[k].append(t)\n",
        "  return {*D[k]}\n",
        "L,R = A(l),A(r)\n",
        "print([-1,len(L^R)][L&R!=set()])"
      ],
      "metadata": {
        "colab": {
          "base_uri": "https://localhost:8080/"
        },
        "id": "-npsP6fz8Bt1",
        "outputId": "c4d7a059-5f5e-4b33-a40d-fbda19a98c6e"
      },
      "execution_count": 4,
      "outputs": [
        {
          "output_type": "stream",
          "name": "stdout",
          "text": [
            "9\n",
            "7 3\n",
            "7\n",
            "1 2\n",
            "1 3\n",
            "2 7\n",
            "2 8\n",
            "2 9\n",
            "4 5\n",
            "4 6\n",
            "3\n"
          ]
        }
      ]
    },
    {
      "cell_type": "code",
      "source": [
        "# 해석\n",
        "n = int(input())\n",
        "l,r = map(int,input().split()) # 촌수를 계산할 두 사람의 번호\n",
        "D = {l:[l], r:[r]} # 딕셔너리; 두사람의 번호(key), 두 사람의 조상을 최근 순으로 저장할 리스트(value) \n",
        "k = int(input())\n",
        "R = [*range(0,n+1)] # [0,1,2,...,n]\n",
        "for _ in range(k):\n",
        "  p,c = map(int,input().split()) # 부모 자식 split\n",
        "  R[c] = p # 자식을 인덱스, 부모를 원소로 관계 저장; 자식의 부모가 유일하다는 조건에 의해 보장\n",
        "  # 문제 조건에서 0번 사람은 없으므로 0번 인덱스는 사용하지 않음\n",
        "  # 주어진 입력에서 부모가 없는 자식은 자기 자신을 원소로 저장, 즉, 인덱스와 원소의 값 일치\n",
        "print(R) ## 실행 결과 확인 : [0, 1, 1, 1, 4, 4, 4, 2, 2, 2]\n",
        "\n",
        "def ancestor(descendant): # 후손을 입력받아 그 후손이 key인 D의 value인 리스트에 조상을 추가해주는 함수\n",
        "  child = descendant # 값을 복사\n",
        "  while R[child]!=child: # 인덱스와 원소의 값이 같으면 탈출; 부모가 없는 조상\n",
        "    child = R[child]\n",
        "    D[descendant].append(child) # 조상 추가\n",
        "ancestor(l)\n",
        "ancestor(r)\n",
        "\n",
        "print(D[l],D[r]) ## 실행 결과 확인 : 두 사람 각각의 조상 정보\n",
        "\n",
        "Al = set(D[l]) # 아래 코드에서 집합 연산자 사용을 위해 집합으로 변환\n",
        "Ar = set(D[r]) # 집합은 원소에 순서가 없는 자료형이므로 리스트와 별도로 저장하여 용도에 따라 적절히 사용\n",
        "\n",
        "print(Al, Ar) ## 실행 결과 확인 : 순서가 없는 자료형이라 리스트일 때와 다르게 출력; 슬라이싱, 인덱싱 등 적용 불가\n",
        "\n",
        "if len(Al&Ar)==0: # 중복 조상이 없는 경우, 촌수계산 불가\n",
        "  print(-1)\n",
        "elif Al>Ar: # 하나의 조상 정보가 다른 하나의 조상 정보에 포함되는 경우, 이 두 사람의 관계는 부모의 다른 자식을 배제\n",
        "  print(D[l].index(r)) # ex. '나' > 부조부 > '증조부' > 고조부 > ... > 오스트랄로피테쿠스 (해당O) / '나' > 부 > 조부 < '숙부' (해당X)\n",
        "elif Al<Ar: # 부분집합 연산자\n",
        "  print(D[r].index(l))\n",
        "else: # 중복 조상이 있고 포함 관계는 아닌 경우, 두 사람으로부터 최초 중복 조상까지의 촌수를 합산\n",
        "  i = -1\n",
        "  while D[l][i]==D[r][i]: # 최초 중복 조상의 인덱스를 뒤에서부터 탐색; 최초 중복 조상 이후의 조상 정보는 완전히 일치하므로 가능\n",
        "    i -= 1\n",
        "  print(len(D[l])+len(D[r])+2*(i+1)) # ex. '나' > 부 > 조부 < '숙부' : 2촌(나-조부) + 1촌(숙부-조부) = 3촌(나-숙부)"
      ],
      "metadata": {
        "colab": {
          "base_uri": "https://localhost:8080/"
        },
        "id": "6gteodxuurR6",
        "outputId": "7b057220-206f-4061-e9a7-b97b9c17d194"
      },
      "execution_count": 49,
      "outputs": [
        {
          "output_type": "stream",
          "name": "stdout",
          "text": [
            "9\n",
            "8 6\n",
            "7\n",
            "1 2\n",
            "1 3\n",
            "2 7\n",
            "2 8\n",
            "2 9\n",
            "4 5\n",
            "4 6\n",
            "[0, 1, 1, 1, 4, 4, 4, 2, 2, 2]\n",
            "[8, 2, 1] [6, 4]\n",
            "{8, 1, 2} {4, 6}\n",
            "-1\n"
          ]
        }
      ]
    }
  ]
}