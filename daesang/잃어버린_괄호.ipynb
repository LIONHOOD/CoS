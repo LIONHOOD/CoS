{
  "nbformat": 4,
  "nbformat_minor": 0,
  "metadata": {
    "colab": {
      "provenance": [],
      "authorship_tag": "ABX9TyNItJBr6WhHpzw19f0qUjAI"
    },
    "kernelspec": {
      "name": "python3",
      "display_name": "Python 3"
    },
    "language_info": {
      "name": "python"
    }
  },
  "cells": [
    {
      "cell_type": "code",
      "execution_count": null,
      "metadata": {
        "colab": {
          "base_uri": "https://localhost:8080/"
        },
        "id": "6RPb0cpG0bGY",
        "outputId": "58a2690f-5b71-43c3-c224-51d292bc7be0"
      },
      "outputs": [
        {
          "output_type": "stream",
          "name": "stdout",
          "text": [
            "55+10-20-30-10+20+30-20\n",
            "-65\n"
          ]
        }
      ],
      "source": [
        "L = input().split('-')\n",
        "print(sum(map(int,L[0].split('+')))-sum(sum(map(int,s.split('+'))) for s in L[1:]))"
      ]
    },
    {
      "cell_type": "code",
      "source": [
        "# unpacking\n",
        "i,*L = input().split('-')\n",
        "print(sum(map(int,i.split('+')))-sum(sum(map(int,s.split('+'))) for s in L))"
      ],
      "metadata": {
        "colab": {
          "base_uri": "https://localhost:8080/"
        },
        "id": "NQ5PvbpUKfAZ",
        "outputId": "10ed0385-f0c8-4ded-9d75-133c473024ad"
      },
      "execution_count": null,
      "outputs": [
        {
          "output_type": "stream",
          "name": "stdout",
          "text": [
            "55+10-20-30-10+20+30-20\n",
            "-65\n"
          ]
        }
      ]
    },
    {
      "cell_type": "code",
      "source": [
        "# short code\n",
        "i,*L = [sum(map(int,s.split('+'))) for s in input().split('-')]\n",
        "print(i-sum(L))"
      ],
      "metadata": {
        "colab": {
          "base_uri": "https://localhost:8080/"
        },
        "id": "MTg7ZiFQNwdA",
        "outputId": "6da9002d-6645-43e8-e936-7bd94cd2fa69"
      },
      "execution_count": null,
      "outputs": [
        {
          "output_type": "stream",
          "name": "stdout",
          "text": [
            "55+10-20-30-10+20+30-20\n",
            "-65\n"
          ]
        }
      ]
    },
    {
      "cell_type": "code",
      "source": [
        "# process; the optimal way under the condition is binding each '+' to the preceding '-'\n",
        "# pasting '-' to its following group sum of the natural numbers, it minimizes the given expression\n",
        "i,*L = input().split('-')\n",
        "print(i)\n",
        "print(L)\n",
        "si = sum(map(int,i.split('+')))\n",
        "sL = sum(sum(map(int,s.split('+'))) for s in L)\n",
        "print(si)\n",
        "print(sL)\n",
        "print(si-sL)"
      ],
      "metadata": {
        "colab": {
          "base_uri": "https://localhost:8080/"
        },
        "id": "6gc3yvHEPjkb",
        "outputId": "2ce8c7f1-1550-4e7f-8610-3e0202384078"
      },
      "execution_count": null,
      "outputs": [
        {
          "output_type": "stream",
          "name": "stdout",
          "text": [
            "55+10-20-30-10+20+30-20\n",
            "55+10\n",
            "['20', '30', '10+20+30', '20']\n",
            "65\n",
            "130\n",
            "-65\n"
          ]
        }
      ]
    }
  ]
}