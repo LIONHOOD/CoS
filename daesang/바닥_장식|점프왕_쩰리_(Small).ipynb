{
  "nbformat": 4,
  "nbformat_minor": 0,
  "metadata": {
    "colab": {
      "provenance": [],
      "authorship_tag": "ABX9TyN4CZpi49qmtaCWiL3TalQx"
    },
    "kernelspec": {
      "name": "python3",
      "display_name": "Python 3"
    },
    "language_info": {
      "name": "python"
    }
  },
  "cells": [
    {
      "cell_type": "markdown",
      "source": [
        "# 바닥 장식"
      ],
      "metadata": {
        "id": "whrZsflFYIZE"
      }
    },
    {
      "cell_type": "code",
      "execution_count": null,
      "metadata": {
        "colab": {
          "base_uri": "https://localhost:8080/"
        },
        "id": "TNwUwnqgXpEP",
        "outputId": "7fe4fb27-9e49-4a01-cfdf-5b15c02ebfc0"
      },
      "outputs": [
        {
          "output_type": "stream",
          "name": "stdout",
          "text": [
            "6 9\n",
            "-||--||--\n",
            "--||--||-\n",
            "|--||--||\n",
            "||--||--|\n",
            "-||--||--\n",
            "--||--||-\n",
            "31\n"
          ]
        }
      ],
      "source": [
        "N,M = map(int,input().split())\n",
        "L = [input() for _ in range(N)]\n",
        "T = [[L[i][j] for i in range(N)] for j in range(M)]\n",
        "def f(X,s):\n",
        "  c = 0\n",
        "  for r in X:\n",
        "    t = ''.join(r).split(s)\n",
        "    c += len(t)-t.count('')\n",
        "  return c\n",
        "print(f(L,'|')+f(T,'-'))"
      ]
    },
    {
      "cell_type": "code",
      "source": [
        "# 행 방향으로 연속되는 -는 하나로 간주 / 열 방향으로 연속되는 |는 하나로 간주\n",
        "# 따라서, 행 방향으로 연속되는 -그룹의 개수와 열 방향으로 연속되는 |그룹의 개수를 합\n",
        "# 전자를 구할 수 있으면 후자는 전치로부터 구할 수 있음\n",
        "# f(X,s) : 행렬 X의 각 행에 대하여 문자 s에 의해 분할된 부분의 개수를 반환하는 함수\n",
        "# ex) 행 -|---||--을 문자 |로 분할하면 -, ---, --이므로 3을 반환\n",
        "N,M = map(int,input().split())\n",
        "L = [input() for _ in range(N)]\n",
        "T = [[L[i][j] for i in range(N)] for j in range(M)] # L의 전치\n",
        "def f(X,s):\n",
        "  c = 0\n",
        "  for r in X:\n",
        "    t = ''.join(r).split(s) # split하기 위해 리스트 요소를 문자열로 이어주는 join\n",
        "    c += len(t)-t.count('') # 분할에서 빈 문자열은 제외하고 계산\n",
        "  return c\n",
        "print(f(L,'|')+f(T,'-'))"
      ],
      "metadata": {
        "colab": {
          "base_uri": "https://localhost:8080/"
        },
        "id": "YwxHSHsHpk75",
        "outputId": "8cdccbf4-e1fc-4b89-8c02-17e16187ae72"
      },
      "execution_count": null,
      "outputs": [
        {
          "output_type": "stream",
          "name": "stdout",
          "text": [
            "4 4\n",
            "----\n",
            "||||\n",
            "--||\n",
            "||--\n",
            "9\n"
          ]
        }
      ]
    },
    {
      "cell_type": "code",
      "source": [
        "# short code\n",
        "L = [input() for _ in range(int(input().split()[0]))]\n",
        "print(sum(len([p for p in r.split('|') if p]) for r in L)+sum(len([q for q in ''.join(x).split('-') if q]) for x in zip(*L)))"
      ],
      "metadata": {
        "colab": {
          "base_uri": "https://localhost:8080/"
        },
        "id": "KpTBpMnM0pxk",
        "outputId": "d284ad17-5f6d-455e-caa1-bfd39be1730c"
      },
      "execution_count": null,
      "outputs": [
        {
          "output_type": "stream",
          "name": "stdout",
          "text": [
            "4 4\n",
            "----\n",
            "||||\n",
            "--||\n",
            "||--\n",
            "9\n"
          ]
        }
      ]
    },
    {
      "cell_type": "code",
      "source": [
        "# transpose iterating\n",
        "L = ['----', '-||-']\n",
        "for r in zip(*L):\n",
        "  print(''.join(r))"
      ],
      "metadata": {
        "colab": {
          "base_uri": "https://localhost:8080/"
        },
        "id": "d-1vUmtT2XC9",
        "outputId": "3673e082-96a2-4c19-c5b0-fee128df1d4d"
      },
      "execution_count": null,
      "outputs": [
        {
          "output_type": "stream",
          "name": "stdout",
          "text": [
            "--\n",
            "-|\n",
            "-|\n",
            "--\n"
          ]
        }
      ]
    },
    {
      "cell_type": "code",
      "source": [
        "# 라이브러리 사용\n",
        "import re\n",
        "L = [input() for _ in range(int(input().split()[0]))]\n",
        "print(sum(len(re.findall('-+',r)) for r in L)+sum(len(re.findall('\\|+',''.join(r))) for r in zip(*L)))"
      ],
      "metadata": {
        "colab": {
          "base_uri": "https://localhost:8080/"
        },
        "id": "VF0VRw-oueFJ",
        "outputId": "5533b2c2-8ff5-4911-c2d0-c86ea345dff5"
      },
      "execution_count": null,
      "outputs": [
        {
          "output_type": "stream",
          "name": "stdout",
          "text": [
            "4 4\n",
            "----\n",
            "||||\n",
            "--||\n",
            "||--\n",
            "9\n"
          ]
        }
      ]
    },
    {
      "cell_type": "code",
      "source": [
        "# re.findall(p,s) : 문자열 s에서 패턴 p를 모두 찾아서 반환\n",
        "re.findall('--', 'ab-c12-e--가나다---+=*')"
      ],
      "metadata": {
        "colab": {
          "base_uri": "https://localhost:8080/"
        },
        "id": "ZLUQr5r_hslr",
        "outputId": "81846052-172e-4851-a918-d0560a120943"
      },
      "execution_count": null,
      "outputs": [
        {
          "output_type": "execute_result",
          "data": {
            "text/plain": [
              "['--', '--']"
            ]
          },
          "metadata": {},
          "execution_count": 6
        }
      ]
    },
    {
      "cell_type": "code",
      "source": [
        "# 정규표현식 문법 '+' : 직전 패턴이 하나 이상 반복되는 부분에 그리디 매치\n",
        "# '-+'는 패턴 '-'가 하나 이상 반복되는 최대한 긴 부분을 매치\n",
        "# '\\|+'는 패턴 '|'가 하나 이상 반복되는 최대한 긴 부분을 매치\n",
        "# 후자에서 '\\'가 추가된 이유는 정규표현식 문법에 의해 '|'에 부여된 특수한 기능을 제거하기 위함 \n",
        "print(re.findall('-+', 'ab-c12-e--가나다---+=*'))\n",
        "print(re.findall('\\|+', 'ab|c12|e||가나다|||+=*'))"
      ],
      "metadata": {
        "colab": {
          "base_uri": "https://localhost:8080/"
        },
        "id": "nydBTIWmiOx9",
        "outputId": "8d565ca0-3cad-420b-9c8b-2c6df7d9c3d9"
      },
      "execution_count": null,
      "outputs": [
        {
          "output_type": "stream",
          "name": "stdout",
          "text": [
            "['-', '-', '--', '---']\n",
            "['|', '|', '||', '|||']\n"
          ]
        }
      ]
    },
    {
      "cell_type": "markdown",
      "source": [
        "$\\star\\space Regular\\space expression$  \n",
        "\n",
        "**기초문법**\n",
        "- \"|\" (OR; 또는) : \"|\"는 \"OR\"을 의미하며 여러 패턴 중 하나를 의미.  \n",
        "- \"(\" (parenthesis; 소괄호) : 정규표현식 내에서 패턴의 그룹화, 즉\n",
        "패턴의 범위와 우선순위를 정의하는 데에 사용됨.  \n",
        "- \"?\" : 물음표 앞의 패턴의 요소가 0 또는 1번 발생을 의미.  \n",
        "- \"*\" : 별표는 선행 요소가 0번 이상 발생을 의미.  \n",
        "- \"+\" : 덧셈 기호는 선행 요소가 1번 이상 발생을 의미.  \n",
        "- {n} : 선행 요소가 정확히 n번 일치함을 의미.  \n",
        "- {min,} : 선행 요소가 적어도 \"min\"번 일치함을 의미.  \n",
        "- {, max} : 선행 요소가 최대 \"max\"번 일치함을 의미.  \n",
        "- {min, max} : 선행 요소가 적어도 \"min\"번 그리고 최대 \"max\"번\n",
        "일치함을 의미.\n",
        "- \"^\" : 문자열의 처음을 의미.\n",
        "- \"$\" : 문자열의 끝을 의미.\n",
        "- \".\" : 1개의 문자와 일치.\n",
        "- \"[\" : [ ] 안의 문자 중 하나를 일치시킴.\n",
        "- \"[^\" : [ ] 안의 문자를 제외한 문자와 일치시킴.  \n",
        "\n",
        "**Abbreviation**  \n",
        "- [a-z] : 알파벳 소문자 중 하나.  \n",
        "- [A-Z] : 알파벳 대문자 중 하나.  \n",
        "- [0-9] : 숫자 중 하나.  \n",
        "- [a-zA-Z] : 알파벳 대소문자 중 하나.  \n",
        "- [가-힣] : 한글 중 하나.  \n",
        "- \\w : 알파벳 대소문자와 숫자 그리고 \"_\"(공백 아니고 underscore) 중 하나.  \n",
        "- \\W : 알파벳 대소문자와 숫자 그리고 \"_\"가 아닌 하나.  \n",
        "- \\d : 숫자 중 하나.  \n",
        "- \\D : 숫자가 아닌 하나.  \n",
        "- \\s : white space와 일치.  \n",
        "- \\S : white space가 아닌 문자와 일치."
      ],
      "metadata": {
        "id": "avhE729RbwCk"
      }
    },
    {
      "cell_type": "markdown",
      "source": [
        "# 점프왕 쩰리 (Small)"
      ],
      "metadata": {
        "id": "jwXsfQhuYK38"
      }
    },
    {
      "cell_type": "code",
      "source": [
        "N = int(input())\n",
        "D = [[*map(int,input().split())] for _ in range(N)]\n",
        "v = [[False]*N for _ in range(N)] # 방문한 칸 저장\n",
        "def f(x,y): # 입력은 현재 좌표 인덱스\n",
        "  if x>=N or y>=N: # 정사각형 구역을 벗어나는 경우\n",
        "    return False\n",
        "  m = D[x][y] # 이동할 칸 수; 중간에 방향을 바꿀 수 없음\n",
        "  if m==-1: # 마지막 칸(성공)인 경우\n",
        "    print('HaruHaru')\n",
        "    exit() # 프로그램 강제 종료\n",
        "  if not v[x][y]: # 방문한 칸이 아닌 경우\n",
        "    v[x][y] = True # 방문 여부 갱신\n",
        "    f(x+m,y) # 아래쪽으로 이동하여 재귀\n",
        "    f(x,y+m) # 오른쪽으로 이동하여 재귀\n",
        "f(0,0)\n",
        "print('Hing') # 프로그램이 강제 종료되지 않으면 실패로 간주\n",
        "# 아래 실행 결과는 백준과 다름; colab에서 exit의 작동 방식 차이"
      ],
      "metadata": {
        "id": "F7CIPlo8jME0",
        "colab": {
          "base_uri": "https://localhost:8080/"
        },
        "outputId": "49e94098-7740-4cdb-e82b-c7b1bd47ad8a"
      },
      "execution_count": 1,
      "outputs": [
        {
          "output_type": "stream",
          "name": "stdout",
          "text": [
            "3\n",
            "2 2 1\n",
            "2 2 2\n",
            "1 2 -1\n",
            "Hing\n"
          ]
        }
      ]
    },
    {
      "cell_type": "code",
      "source": [
        "# exit 쓰지 않고 구현\n",
        "from collections import deque # double-ended queue; 덱\n",
        "N = int(input())\n",
        "D = [[*map(int,input().split())] for _ in range(N)]\n",
        "v = [[False]*N for _ in range(N)]\n",
        "def f(x,y,v):\n",
        "  q = deque()\n",
        "  q.append((x,y))\n",
        "  while q:\n",
        "    x,y = q.popleft()\n",
        "    if D[x][y]==-1:\n",
        "      return 'HaruHaru'\n",
        "    m = D[x][y]\n",
        "    for i in range(2): # [아래쪽,오른쪽]\n",
        "      X,Y = [(x+m,y),(x,y+m)][i]\n",
        "      if X>=N or Y>=N:\n",
        "        continue\n",
        "      if not v[X][Y]:\n",
        "        v[X][Y] = True\n",
        "        q.append((X,Y))\n",
        "  return 'Hing'\n",
        "print(f(0,0,v))"
      ],
      "metadata": {
        "colab": {
          "base_uri": "https://localhost:8080/"
        },
        "id": "uCetYcWPa6bC",
        "outputId": "3b7e3f4e-2938-4cb9-fde1-d2044fae81dc"
      },
      "execution_count": 4,
      "outputs": [
        {
          "output_type": "stream",
          "name": "stdout",
          "text": [
            "3\n",
            "1 1 10\n",
            "1 5 1\n",
            "2 2 -1\n",
            "HaruHaru\n"
          ]
        }
      ]
    }
  ]
}