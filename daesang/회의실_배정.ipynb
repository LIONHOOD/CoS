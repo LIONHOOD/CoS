{
  "nbformat": 4,
  "nbformat_minor": 0,
  "metadata": {
    "colab": {
      "provenance": [],
      "authorship_tag": "ABX9TyNbVbKl5DI0jqkX4AQluaq9"
    },
    "kernelspec": {
      "name": "python3",
      "display_name": "Python 3"
    },
    "language_info": {
      "name": "python"
    }
  },
  "cells": [
    {
      "cell_type": "code",
      "execution_count": 15,
      "metadata": {
        "colab": {
          "base_uri": "https://localhost:8080/"
        },
        "id": "mfzj6vENDHTw",
        "outputId": "3d7a9a48-b9c5-459b-a6d5-74c0291ed543"
      },
      "outputs": [
        {
          "output_type": "stream",
          "name": "stdout",
          "text": [
            "10\n",
            "1 6\n",
            "2 2\n",
            "4 4\n",
            "5 8\n",
            "3 4\n",
            "6 7\n",
            "7 9\n",
            "10 12\n",
            "4 11\n",
            "1 13\n",
            "6\n"
          ]
        }
      ],
      "source": [
        "# 문제의 제약 하에 어떤 회의가 우선 배정되기 위한 동치 조건\n",
        "# 1. 가장 최근에 배정된 회의의 종료 시간 이후에 시작\n",
        "# 2. 배정되지 않은 다른 회의 후보보다 종료 시간이 더 빠름\n",
        "# 주의 : 시작과 종료 시간이 같은 회의(시작과 동시에 종료로 간주)는 항상 배정되고 카운트됨\n",
        "# 따라서 시작 시간에 대한 정렬도 필요함\n",
        "# 종료 시간에 대한 정렬만 하고 시작 시간에 대한 정렬을 하지 않는 경우의 반례\n",
        "# 입력 순서가 (5 5) (3 5) 이면 (5 5) 1개만 배정되지만, 입력 순서가 (3 5) (5 5) 이면 2개 모두 배정\n",
        "S = [[*map(int,input().split())] for _ in range(int(input()))]\n",
        "S.sort(key=lambda x:(x[1],x[0]))\n",
        "c = e = 0\n",
        "for x,y in S:\n",
        "  if x>=e:\n",
        "    c += 1\n",
        "    e = y\n",
        "print(c)"
      ]
    },
    {
      "cell_type": "code",
      "source": [
        "# 배정 과정\n",
        "S = [[*map(int,input().split())] for _ in range(int(input()))]\n",
        "print(S)\n",
        "S.sort(key=lambda x:(x[1],x[0]))\n",
        "print(S)\n",
        "r = []\n",
        "c = e = 0\n",
        "for x,y in S:\n",
        "  if x>=e:\n",
        "    r.append([x,y])\n",
        "    c += 1\n",
        "    e = y\n",
        "print(c)\n",
        "print(r)"
      ],
      "metadata": {
        "colab": {
          "base_uri": "https://localhost:8080/"
        },
        "id": "izLJPzC2mn9d",
        "outputId": "9afe57aa-f61f-4f23-9d2c-a299b4807aa4"
      },
      "execution_count": 13,
      "outputs": [
        {
          "output_type": "stream",
          "name": "stdout",
          "text": [
            "10\n",
            "1 6\n",
            "2 2\n",
            "4 4\n",
            "5 8\n",
            "3 4\n",
            "6 7\n",
            "7 9\n",
            "10 12\n",
            "4 11\n",
            "1 13\n",
            "[[1, 6], [2, 2], [4, 4], [5, 8], [3, 4], [6, 7], [7, 9], [10, 12], [4, 11], [1, 13]]\n",
            "[[2, 2], [3, 4], [4, 4], [1, 6], [6, 7], [5, 8], [7, 9], [4, 11], [10, 12], [1, 13]]\n",
            "6\n",
            "[[2, 2], [3, 4], [4, 4], [6, 7], [7, 9], [10, 12]]\n"
          ]
        }
      ]
    },
    {
      "cell_type": "code",
      "source": [
        "# 반례 코드\n",
        "S = [[*map(int,input().split())] for _ in range(int(input()))]\n",
        "print(S)\n",
        "S.sort(key=lambda x:x[1]) # 오류\n",
        "print(S)\n",
        "r = []\n",
        "c = e = 0\n",
        "for x,y in S:\n",
        "  if x>=e:\n",
        "    r.append([x,y])\n",
        "    c += 1\n",
        "    e = y\n",
        "print(c)\n",
        "print(r)"
      ],
      "metadata": {
        "colab": {
          "base_uri": "https://localhost:8080/"
        },
        "id": "d6FWs3VxnjR3",
        "outputId": "0252e56c-5733-4d52-a292-39f734a685fa"
      },
      "execution_count": 14,
      "outputs": [
        {
          "output_type": "stream",
          "name": "stdout",
          "text": [
            "10\n",
            "1 6\n",
            "2 2\n",
            "4 4\n",
            "5 8\n",
            "3 4\n",
            "6 7\n",
            "7 9\n",
            "10 12\n",
            "4 11\n",
            "1 13\n",
            "[[1, 6], [2, 2], [4, 4], [5, 8], [3, 4], [6, 7], [7, 9], [10, 12], [4, 11], [1, 13]]\n",
            "[[2, 2], [4, 4], [3, 4], [1, 6], [6, 7], [5, 8], [7, 9], [4, 11], [10, 12], [1, 13]]\n",
            "5\n",
            "[[2, 2], [4, 4], [6, 7], [7, 9], [10, 12]]\n"
          ]
        }
      ]
    }
  ]
}